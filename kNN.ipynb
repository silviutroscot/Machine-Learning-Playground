{
  "nbformat": 4,
  "nbformat_minor": 0,
  "metadata": {
    "colab": {
      "name": "kNN",
      "version": "0.3.2",
      "provenance": [],
      "collapsed_sections": [],
      "include_colab_link": true
    },
    "kernelspec": {
      "name": "python3",
      "display_name": "Python 3"
    },
    "accelerator": "GPU"
  },
  "cells": [
    {
      "cell_type": "markdown",
      "metadata": {
        "id": "view-in-github",
        "colab_type": "text"
      },
      "source": [
        "[View in Colaboratory](https://colab.research.google.com/github/silviutroscot/Machine-Learning-Playground/blob/master/kNN.ipynb)"
      ]
    },
    {
      "metadata": {
        "id": "sK8VPdjg7Kty",
        "colab_type": "text"
      },
      "cell_type": "markdown",
      "source": [
        "# kNN \n",
        "\n",
        "### Problem: we have a dataset of flowers, each of them having the following features:\n",
        "  - sepal length\n",
        "  - sepal width\n",
        "  - petal length\n",
        "  - petal width\n",
        "  \n",
        "### The aim is to find in which class a flower is, given the features above for a flower. We have 3 possible classes: \n",
        "- Iris-setosa\n",
        "- Iris-versicolor\n",
        "- Iris-virginica\n",
        "\n",
        "### Approach: use k nearest neighbors and find the most suitable hyperparameter by cross validation testing\n"
      ]
    },
    {
      "metadata": {
        "id": "zNy_v0PiWNCX",
        "colab_type": "code",
        "colab": {
          "base_uri": "https://localhost:8080/",
          "height": 34
        },
        "outputId": "16cddb2b-b094-43d4-dc23-05125e1a4556"
      },
      "cell_type": "code",
      "source": [
        "import matplotlib.pyplot as plt\n",
        "import pandas as pd\n",
        "from sklearn.neighbors import KNeighborsClassifier\n",
        "\n",
        "# import data from CSV\n",
        "data = pd.read_csv('https://archive.ics.uci.edu/ml/machine-learning-databases/iris/iris.data')\n",
        "data.columns = (['sepal_length', 'sepal_width', 'petal_length', 'petal_width', 'labels'])\n",
        "\n",
        "# map label names to numbers\n",
        "labels_enum = {'Iris-setosa':0, 'Iris-versicolor':1, 'Iris-virginica':2}\n",
        "data['class_num'] = [labels_enum[i] for i in data['labels']]\n",
        "\n",
        "# split the data in samples and labels\n",
        "features_matrix = data.drop(['labels', 'class_num'], axis=1)\n",
        "labels_column = data.class_num\n",
        "\n",
        "# Find the best hyperparameter for the model\n",
        "# 1 is not relevant, as we have only a few data samples so we re-use training data as test data\n",
        "best_hyperparameter = 0\n",
        "max_accuracy_found = 0\n",
        "for k in range (2, len(data)):\n",
        "  knn = KNeighborsClassifier(n_neighbors=k)\n",
        "  knn.fit(features_matrix, labels_column)\n",
        "  if (knn.score(features_matrix, labels_column) > max_accuracy_found):\n",
        "      best_hyperparameter = k\n",
        "      max_accuracy_found = knn.score(features_matrix, labels_column)\n",
        "\n",
        "# show the best model hyperparameter and accuracy\n",
        "print (max_accuracy_found, best_hyperparameter)"
      ],
      "execution_count": 17,
      "outputs": [
        {
          "output_type": "stream",
          "text": [
            "0.9865771812080537 15\n"
          ],
          "name": "stdout"
        }
      ]
    }
  ]
}