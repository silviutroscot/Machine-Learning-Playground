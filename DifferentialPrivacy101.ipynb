{
  "nbformat": 4,
  "nbformat_minor": 0,
  "metadata": {
    "colab": {
      "name": "DifferentialPrivacy101.ipynb",
      "version": "0.3.2",
      "provenance": [],
      "include_colab_link": true
    },
    "kernelspec": {
      "name": "python3",
      "display_name": "Python 3"
    }
  },
  "cells": [
    {
      "cell_type": "markdown",
      "metadata": {
        "id": "view-in-github",
        "colab_type": "text"
      },
      "source": [
        "<a href=\"https://colab.research.google.com/github/silviutroscot/Machine-Learning-Playground/blob/master/DifferentialPrivacy101.ipynb\" target=\"_parent\"><img src=\"https://colab.research.google.com/assets/colab-badge.svg\" alt=\"Open In Colab\"/></a>"
      ]
    },
    {
      "cell_type": "code",
      "metadata": {
        "id": "LhJgera80-g6",
        "colab_type": "code",
        "colab": {}
      },
      "source": [
        "import torch\n",
        "\n",
        "# we will build a simple database, with one column, which can be either 0 or 1\n",
        "num_entries = 5000\n",
        "\n",
        "db = torch.rand(num_entries) > 0.5\n"
      ],
      "execution_count": 0,
      "outputs": []
    },
    {
      "cell_type": "code",
      "metadata": {
        "id": "F6cgGDEl1VSt",
        "colab_type": "code",
        "colab": {}
      },
      "source": [
        "# build a list of databases which contain all the elements of the initial db\n",
        "# excluding the element on the i-th position (i in range [0, num_entries - 1])\n",
        "\n",
        "def generate_parallel_dbs(db):\n",
        "    db_list = []\n",
        "    for i in range(0, len(db)):\n",
        "        db_list.append(torch.cat([db[0:i], db[i+1:]]))\n",
        "    \n",
        "    return db_list\n",
        "\n",
        "# function which creates a database with size given as param, \n",
        "# and all the parallel dbs from it\n",
        "\n",
        "def create_db_and_parallels(num_entries):\n",
        "    db = torch.rand(num_entries) > 0.5\n",
        "    pdb = generate_parallel_dbs(db)\n",
        "    return (db, pdb)"
      ],
      "execution_count": 0,
      "outputs": []
    },
    {
      "cell_type": "markdown",
      "metadata": {
        "id": "LWAq-N6nQeCa",
        "colab_type": "text"
      },
      "source": [
        "Compute **L1 sensitivity** for a function, which is the biggest difference between the output of a query on a DB and the output of that function on the same DB from where we remove one element."
      ]
    },
    {
      "cell_type": "code",
      "metadata": {
        "id": "MfUExh0gQsd4",
        "colab_type": "code",
        "colab": {}
      },
      "source": [
        "def compute_l1_sensitivity(function, db, parallel_dbs):\n",
        "    max_difference = 0\n",
        "    res = function(db)\n",
        "    for parallel_db in parallel_dbs:\n",
        "        temp = function(parallel_db)\n",
        "        if torch.abs(res - temp) > max_difference:\n",
        "            max_difference = res - temp\n",
        "    \n",
        "    return max_difference\n",
        "\n",
        "def test_l1_sensitivity_on_random_db(function, num_entries=3000):\n",
        "    (db, pdb) = create_db_and_parallels(num_entries)\n",
        "    res = compute_l1_sensitivity(function, db, pdb)\n",
        "    return res\n"
      ],
      "execution_count": 0,
      "outputs": []
    },
    {
      "cell_type": "code",
      "metadata": {
        "id": "djgWZsAlUO3P",
        "colab_type": "code",
        "outputId": "8cbcb24e-8b87-4955-e802-b5ebaf1a5d6d",
        "colab": {
          "base_uri": "https://localhost:8080/",
          "height": 34
        }
      },
      "source": [
        "test_l1_sensitivity_on_random_db(torch.sum, 30)"
      ],
      "execution_count": 9,
      "outputs": [
        {
          "output_type": "execute_result",
          "data": {
            "text/plain": [
              "tensor(1)"
            ]
          },
          "metadata": {
            "tags": []
          },
          "execution_count": 9
        }
      ]
    },
    {
      "cell_type": "markdown",
      "metadata": {
        "id": "ly1RGG3YV84c",
        "colab_type": "text"
      },
      "source": [
        "## Run a test where we have the query as \"is the sum of elements larger than 5\" with 10 randomly generated databases of size 10"
      ]
    },
    {
      "cell_type": "code",
      "metadata": {
        "id": "l35G5oYJWK4N",
        "colab_type": "code",
        "colab": {}
      },
      "source": [
        "def query(db):\n",
        "    return torch.sum(db) > 5\n",
        "\n",
        "def test_dbs(no_of_dbs, size_of_db):\n",
        "    result = []\n",
        "    for i in range(0, no_of_dbs):\n",
        "        (db, pdb) = create_db_and_parallels(10)\n",
        "        res = compute_l1_sensitivity(query, db, pdb)\n",
        "        result.append(res)\n",
        "    return result\n"
      ],
      "execution_count": 0,
      "outputs": []
    },
    {
      "cell_type": "code",
      "metadata": {
        "id": "csYL290OXe8S",
        "colab_type": "code",
        "outputId": "2bbdbce9-2a25-4046-dd8d-baa427094fc2",
        "colab": {
          "base_uri": "https://localhost:8080/",
          "height": 34
        }
      },
      "source": [
        "test_dbs(10, 10)"
      ],
      "execution_count": 11,
      "outputs": [
        {
          "output_type": "execute_result",
          "data": {
            "text/plain": [
              "[0, 0, 0, 0, 0, 0, 0, 0, 0, tensor(1, dtype=torch.uint8)]"
            ]
          },
          "metadata": {
            "tags": []
          },
          "execution_count": 11
        }
      ]
    },
    {
      "cell_type": "markdown",
      "metadata": {
        "id": "IYNCCO_9bLKW",
        "colab_type": "text"
      },
      "source": [
        "## Perform differential attacks against <u>sum</u>, <u>mean</u> and <u> threshold sum</u> queries. "
      ]
    },
    {
      "cell_type": "code",
      "metadata": {
        "id": "sSw6qupZa99D",
        "colab_type": "code",
        "colab": {}
      },
      "source": [
        "def sum_query(db):\n",
        "    return torch.sum(db)\n",
        "\n",
        "def attack_sum_function(no_of_entries, entry_id):\n",
        "    \n",
        "    if (entry_id > no_of_entries):\n",
        "            return \"invalid call\"\n",
        "    (db, pdb) = create_db_and_parallels(no_of_entries)\n",
        "    print (db)\n",
        "    parallel_db = torch.cat([db[0:entry_id], db[entry_id+1:]])\n",
        "    # if the sum of the db without that entry is equal with the sum of the full\n",
        "    # db, it means that this value is 0; otherwise it is 1\n",
        "    if (sum_query(db) == sum_query(parallel_db)):\n",
        "        return 0\n",
        "    else:\n",
        "        return 1\n",
        "    "
      ],
      "execution_count": 0,
      "outputs": []
    },
    {
      "cell_type": "code",
      "metadata": {
        "id": "Cwq9yKqOcc5T",
        "colab_type": "code",
        "outputId": "75779fcf-9813-43db-eda3-6dde5086bd0f",
        "colab": {
          "base_uri": "https://localhost:8080/",
          "height": 51
        }
      },
      "source": [
        "attack_sum_function(10, 3)"
      ],
      "execution_count": 13,
      "outputs": [
        {
          "output_type": "stream",
          "text": [
            "tensor([0, 1, 0, 1, 1, 0, 1, 0, 0, 1], dtype=torch.uint8)\n"
          ],
          "name": "stdout"
        },
        {
          "output_type": "execute_result",
          "data": {
            "text/plain": [
              "1"
            ]
          },
          "metadata": {
            "tags": []
          },
          "execution_count": 13
        }
      ]
    },
    {
      "cell_type": "code",
      "metadata": {
        "id": "AwBzNcnycqm0",
        "colab_type": "code",
        "colab": {}
      },
      "source": [
        "def mean_query(db):\n",
        "    return torch.mean(db.type(torch.FloatTensor))\n",
        "\n",
        "def attack_mean_function(no_of_entries, entry_id):\n",
        "    \n",
        "    if (entry_id > no_of_entries):\n",
        "            return \"invalid call\"\n",
        "    (db, pdb) = create_db_and_parallels(no_of_entries)\n",
        "    print (db)\n",
        "    parallel_db = torch.cat([db[0:entry_id], db[entry_id+1:]])\n",
        "    if (mean_query(db) > mean_query(parallel_db)):\n",
        "        return 1\n",
        "    else:\n",
        "        return 0"
      ],
      "execution_count": 0,
      "outputs": []
    },
    {
      "cell_type": "code",
      "metadata": {
        "id": "DS-51ra7dW84",
        "colab_type": "code",
        "outputId": "3b7f0911-5905-49a1-d980-0900b7321aa2",
        "colab": {
          "base_uri": "https://localhost:8080/",
          "height": 51
        }
      },
      "source": [
        "attack_mean_function(10, 3)"
      ],
      "execution_count": 15,
      "outputs": [
        {
          "output_type": "stream",
          "text": [
            "tensor([1, 0, 0, 1, 1, 0, 0, 1, 0, 1], dtype=torch.uint8)\n"
          ],
          "name": "stdout"
        },
        {
          "output_type": "execute_result",
          "data": {
            "text/plain": [
              "1"
            ]
          },
          "metadata": {
            "tags": []
          },
          "execution_count": 15
        }
      ]
    },
    {
      "cell_type": "code",
      "metadata": {
        "id": "ZyIyxz-bdnz-",
        "colab_type": "code",
        "colab": {}
      },
      "source": [
        "def threshold_query(db):\n",
        "    return torch.sum(db) > 5\n",
        "\n",
        "def attack_threshold_function(no_of_entries, entry_id):\n",
        "    \n",
        "    if (entry_id > no_of_entries):\n",
        "            return \"invalid call\"\n",
        "    (db, pdb) = create_db_and_parallels(no_of_entries)\n",
        "    print (db)\n",
        "    parallel_db = torch.cat([db[0:entry_id], db[entry_id+1:]])\n",
        "    if (threshold_query(db) > threshold_query(parallel_db)):\n",
        "        return 1\n",
        "    else:\n",
        "        return \"unknown\""
      ],
      "execution_count": 0,
      "outputs": []
    },
    {
      "cell_type": "code",
      "metadata": {
        "id": "C1KT-PNQeqsS",
        "colab_type": "code",
        "outputId": "203c9f44-f593-45f5-a82f-4cb94e83367b",
        "colab": {
          "base_uri": "https://localhost:8080/",
          "height": 51
        }
      },
      "source": [
        "attack_threshold_function(10, 2)"
      ],
      "execution_count": 17,
      "outputs": [
        {
          "output_type": "stream",
          "text": [
            "tensor([1, 0, 0, 0, 0, 0, 1, 1, 1, 0], dtype=torch.uint8)\n"
          ],
          "name": "stdout"
        },
        {
          "output_type": "execute_result",
          "data": {
            "text/plain": [
              "'unknown'"
            ]
          },
          "metadata": {
            "tags": []
          },
          "execution_count": 17
        }
      ]
    },
    {
      "cell_type": "markdown",
      "metadata": {
        "id": "qNyoLBUlkIEd",
        "colab_type": "text"
      },
      "source": [
        "# Implement local privacy by adding the noise to the input, following this pattern:\n",
        "## For each entry in the DB we toss a coin (with possible outcomes 0 or 1); \n",
        "## If the value is 1, we let the value unaltered;\n",
        "## If the value is 0, we toss one more time and we put the value of the toss as the value of that entry"
      ]
    },
    {
      "cell_type": "code",
      "metadata": {
        "id": "9gmPlxLqmHHf",
        "colab_type": "code",
        "colab": {}
      },
      "source": [
        "def generate_locally_private_db(db, randomness_probability):\n",
        "    result = []\n",
        "    for entry in db:\n",
        "        first_toss = (torch.rand(1) > randomness_probability).float()\n",
        "        if first_toss is 1:\n",
        "            result.append(entry)\n",
        "        else:\n",
        "            second_toss = (torch.rand(1) > 0.5).float()\n",
        "            result.append(second_toss)\n",
        "    return torch.IntTensor(result)\n",
        "\n",
        "def compare_locally_private_and_raw_db_l1_sensitivity(function, db_size, randomness_probability):\n",
        "    (raw_db, parallel_raw_dbs) = create_db_and_parallels(db_size)\n",
        "    raw_db_function_value = function(raw_db)\n",
        "    randomized_db = generate_locally_private_db(raw_db, randomness_probability)\n",
        "    noisy_db_function_value = function(randomized_db)\n",
        "    parallel_randomized_dbs = generate_parallel_dbs(randomized_db)\n",
        "    raw_sensitivity = compute_l1_sensitivity(function, raw_db, parallel_raw_dbs)\n",
        "    randomized_sensitivity = compute_l1_sensitivity(function, randomized_db, parallel_randomized_dbs)\n",
        "    \n",
        "    return [raw_sensitivity, randomized_sensitivity, raw_db_function_value, noisy_db_function_value]\n",
        "\n",
        "def display_local_privacy_result(results):\n",
        "    print (\"sensitivity of unaltered data: \" + str(results[0]))\n",
        "    print (\"sensitivity of noisy data: \" + str(results[1]))\n",
        "    print (\"query result on the unaltered data: \" + str(results[2]))\n",
        "    print (\"query result of the noisy data: \" + str(results[3]))"
      ],
      "execution_count": 0,
      "outputs": []
    },
    {
      "cell_type": "code",
      "metadata": {
        "id": "4kN2QSolpzZv",
        "colab_type": "code",
        "colab": {
          "base_uri": "https://localhost:8080/",
          "height": 34
        },
        "outputId": "73d0d19a-1abe-42b2-cac5-11be12d069f3"
      },
      "source": [
        "print(compare_locally_private_and_raw_db_l1_sensitivity(mean_query, 10, 0.5))"
      ],
      "execution_count": 163,
      "outputs": [
        {
          "output_type": "stream",
          "text": [
            "[tensor(-0.0778), tensor(0.0778), tensor(0.7000), tensor(0.3000)]\n"
          ],
          "name": "stdout"
        }
      ]
    },
    {
      "cell_type": "code",
      "metadata": {
        "id": "Q7-zf_TZrY-5",
        "colab_type": "code",
        "colab": {
          "base_uri": "https://localhost:8080/",
          "height": 85
        },
        "outputId": "4c0ae70a-3ca4-4d9e-b23c-f6fc6f7c6133"
      },
      "source": [
        "display_local_privacy_result (compare_locally_private_and_raw_db_l1_sensitivity(mean_query, 100, 0.5))"
      ],
      "execution_count": 99,
      "outputs": [
        {
          "output_type": "stream",
          "text": [
            "sensitivity of unaltered data: tensor(0.0056, dtype=torch.float64)\n",
            "sensitivity of noisy data: tensor(0.0052, dtype=torch.float64)\n",
            "query result on the unaltered data: tensor(0.4500, dtype=torch.float64)\n",
            "query result of the noisy data: tensor(0.4900, dtype=torch.float64)\n"
          ],
          "name": "stdout"
        }
      ]
    },
    {
      "cell_type": "code",
      "metadata": {
        "id": "jMa_rUAsrdLl",
        "colab_type": "code",
        "colab": {
          "base_uri": "https://localhost:8080/",
          "height": 85
        },
        "outputId": "359f6394-065e-407c-f71c-d56f9ba6ac05"
      },
      "source": [
        "display_local_privacy_result (compare_locally_private_and_raw_db_l1_sensitivity(mean_query, 1000, 0.5))"
      ],
      "execution_count": 100,
      "outputs": [
        {
          "output_type": "stream",
          "text": [
            "sensitivity of unaltered data: tensor(0.0005, dtype=torch.float64)\n",
            "sensitivity of noisy data: tensor(-0.0005, dtype=torch.float64)\n",
            "query result on the unaltered data: tensor(0.4900, dtype=torch.float64)\n",
            "query result of the noisy data: tensor(0.5010, dtype=torch.float64)\n"
          ],
          "name": "stdout"
        }
      ]
    },
    {
      "cell_type": "code",
      "metadata": {
        "id": "KJBk__WBrjqh",
        "colab_type": "code",
        "colab": {
          "base_uri": "https://localhost:8080/",
          "height": 85
        },
        "outputId": "dc7a2d61-a4c3-4306-b58a-12eaa6544986"
      },
      "source": [
        "display_local_privacy_result (compare_locally_private_and_raw_db_l1_sensitivity(mean_query, 10000, 0.5))"
      ],
      "execution_count": 165,
      "outputs": [
        {
          "output_type": "stream",
          "text": [
            "sensitivity of unaltered data: tensor(-5.0962e-05)\n",
            "sensitivity of noisy data: tensor(5.0962e-05)\n",
            "query result on the unaltered data: tensor(0.5097)\n",
            "query result of the noisy data: tensor(0.4903)\n"
          ],
          "name": "stdout"
        }
      ]
    },
    {
      "cell_type": "markdown",
      "metadata": {
        "id": "Vqms8NUH98Nn",
        "colab_type": "text"
      },
      "source": [
        "## The approach above showed how the query behaves when we add noise with a probability of 0.5. \n",
        "### Below we will analyze what happens when the proability of adding noise is not 0.5 but it is changeable, and we will provide a function which takes the result of the mean function applied on the noisy data and apply a \"reverse\" statistical function to get the correct result, if the randomness follows the expected distribution.\n",
        "For the mean function, the value is \n",
        "$$ probabilityPersonDidTheEvent = \\frac{noisyMean - 0.5noiseProbability}{1-noiseProbability} $$"
      ]
    },
    {
      "cell_type": "code",
      "metadata": {
        "id": "nr63cDa4-41o",
        "colab_type": "code",
        "colab": {}
      },
      "source": [
        "def get_mean_result_from_nosy_data_mean_result(noisy_result, noise_probability):\n",
        "    return float(noisy_result - 0.5*noise_probability)/float(1-noise_probability)"
      ],
      "execution_count": 0,
      "outputs": []
    },
    {
      "cell_type": "code",
      "metadata": {
        "id": "mIklh8FtHjMk",
        "colab_type": "code",
        "colab": {}
      },
      "source": [
        "def display_all_local_privacy_data(db_size, noise_probability):\n",
        "    db_result = compare_locally_private_and_raw_db_l1_sensitivity(mean_query, db_size, noise_probability)\n",
        "    display_local_privacy_result(db_result)\n",
        "    print (get_mean_result_from_nosy_data_mean_result(db_result[3], noise_probability))"
      ],
      "execution_count": 0,
      "outputs": []
    },
    {
      "cell_type": "code",
      "metadata": {
        "id": "W6LOJLnSJUr2",
        "colab_type": "code",
        "colab": {
          "base_uri": "https://localhost:8080/",
          "height": 102
        },
        "outputId": "9a3e75ff-ceba-4acb-ca82-5284a3644eee"
      },
      "source": [
        "display_all_local_privacy_data(100, 0.5)"
      ],
      "execution_count": 175,
      "outputs": [
        {
          "output_type": "stream",
          "text": [
            "sensitivity of unaltered data: tensor(0.0052)\n",
            "sensitivity of noisy data: tensor(-0.0053)\n",
            "query result on the unaltered data: tensor(0.4900)\n",
            "query result of the noisy data: tensor(0.5200)\n",
            "0.5399999618530273\n"
          ],
          "name": "stdout"
        }
      ]
    },
    {
      "cell_type": "code",
      "metadata": {
        "id": "H6-kJ2RoKOVo",
        "colab_type": "code",
        "colab": {
          "base_uri": "https://localhost:8080/",
          "height": 102
        },
        "outputId": "0b504423-687b-4b78-c939-1d9fb3f9c6b1"
      },
      "source": [
        "display_all_local_privacy_data(10000, 0.5)"
      ],
      "execution_count": 176,
      "outputs": [
        {
          "output_type": "stream",
          "text": [
            "sensitivity of unaltered data: tensor(4.9710e-05)\n",
            "sensitivity of noisy data: tensor(5.0008e-05)\n",
            "query result on the unaltered data: tensor(0.5033)\n",
            "query result of the noisy data: tensor(0.5001)\n",
            "0.5002000331878662\n"
          ],
          "name": "stdout"
        }
      ]
    },
    {
      "cell_type": "code",
      "metadata": {
        "id": "N4062mUtoOtS",
        "colab_type": "code",
        "colab": {}
      },
      "source": [
        ""
      ],
      "execution_count": 0,
      "outputs": []
    }
  ]
}