{
  "nbformat": 4,
  "nbformat_minor": 0,
  "metadata": {
    "colab": {
      "name": "LogisticRegression.ipynb",
      "version": "0.3.2",
      "provenance": [],
      "include_colab_link": true
    },
    "kernelspec": {
      "name": "python3",
      "display_name": "Python 3"
    }
  },
  "cells": [
    {
      "cell_type": "markdown",
      "metadata": {
        "id": "view-in-github",
        "colab_type": "text"
      },
      "source": [
        "<a href=\"https://colab.research.google.com/github/silviutroscot/Machine-Learning-Playground/blob/master/LogisticRegression.ipynb\" target=\"_parent\"><img src=\"https://colab.research.google.com/assets/colab-badge.svg\" alt=\"Open In Colab\"/></a>"
      ]
    },
    {
      "metadata": {
        "id": "e3VTHYNTfq4c",
        "colab_type": "text"
      },
      "cell_type": "markdown",
      "source": [
        "#Logistic regression\n",
        "\n",
        "## Python implementation of the second assignment from Andrew NG's [Machine Learning](https://www.coursera.org/learn/machine-learning) course.\n",
        "\n",
        "### This notebook contains generic logistic regression functions, applied on two use cases:\n",
        "- Binary classification, where we want to predict if a student is admitted, based on their result of two exams\n",
        "- Binary clasification w"
      ]
    },
    {
      "metadata": {
        "id": "_4OkqCPLdvA0",
        "colab_type": "code",
        "colab": {
          "base_uri": "https://localhost:8080/",
          "height": 122
        },
        "outputId": "7513a87c-e578-429c-8104-507f08bbec60"
      },
      "cell_type": "code",
      "source": [
        "# Load the Drive helper and mount\n",
        "# This should be runned only once, at the initialization of the notebook\n",
        "from google.colab import drive\n",
        "drive.mount('/content/drive')"
      ],
      "execution_count": 1,
      "outputs": [
        {
          "output_type": "stream",
          "text": [
            "Go to this URL in a browser: https://accounts.google.com/o/oauth2/auth?client_id=947318989803-6bn6qk8qdgf4n4g3pfee6491hc0brc4i.apps.googleusercontent.com&redirect_uri=urn%3Aietf%3Awg%3Aoauth%3A2.0%3Aoob&scope=email%20https%3A%2F%2Fwww.googleapis.com%2Fauth%2Fdocs.test%20https%3A%2F%2Fwww.googleapis.com%2Fauth%2Fdrive%20https%3A%2F%2Fwww.googleapis.com%2Fauth%2Fdrive.photos.readonly%20https%3A%2F%2Fwww.googleapis.com%2Fauth%2Fpeopleapi.readonly&response_type=code\n",
            "\n",
            "Enter your authorization code:\n",
            "··········\n",
            "Mounted at /content/drive\n"
          ],
          "name": "stdout"
        }
      ]
    },
    {
      "metadata": {
        "id": "D1fJ071hlMEG",
        "colab_type": "code",
        "colab": {}
      },
      "cell_type": "code",
      "source": [
        "import numpy as np\n",
        "import pandas as pd\n",
        "import matplotlib.pyplot as plt\n",
        "np.seterr(over='raise')\n",
        "\n",
        "# read dataset from Google drive\n",
        "with open(\"drive/My Drive/Datasets/exams_results_admission_classification.txt\", 'r') as dataset:\n",
        "  data = pd.read_csv(dataset, header=None)\n",
        "  data.columns = ([\"first_exam_result\", \"second_exam_result\", \"admited\"])"
      ],
      "execution_count": 0,
      "outputs": []
    },
    {
      "metadata": {
        "id": "8PChBmK_pYA1",
        "colab_type": "code",
        "colab": {
          "base_uri": "https://localhost:8080/",
          "height": 347
        },
        "outputId": "8b89fbe0-66d1-4d84-ed04-1310c1ec4a28"
      },
      "cell_type": "code",
      "source": [
        "# plot data\n",
        "def plotData(data):\n",
        "  featuresMatrix = data.iloc[:,0:len(data.columns)-1]\n",
        "  labelsVector = data.iloc[:,len(data.columns)-1].tolist()\n",
        "  fig, ax = plt.subplots()\n",
        "  for index in range(0, len(labelsVector)):\n",
        "    if labelsVector[index] is 1:\n",
        "        ax.scatter(featuresMatrix.iloc[index,0:1], featuresMatrix.iloc[index,1:2], marker='x', color='blue') \n",
        "    else:\n",
        "        ax.scatter(featuresMatrix.iloc[index,0:1], featuresMatrix.iloc[index,1:2], marker='o', color='red')\n",
        "\n",
        "plotData(data)"
      ],
      "execution_count": 51,
      "outputs": [
        {
          "output_type": "display_data",
          "data": {
            "image/png": "[encoded data removed]",
            "text/plain": [
              "<Figure size 576x396 with 1 Axes>"
            ]
          },
          "metadata": {
            "tags": []
          }
        }
      ]
    },
    {
      "metadata": {
        "id": "qzU90shaL85U",
        "colab_type": "code",
        "colab": {
          "base_uri": "https://localhost:8080/",
          "height": 2227
        },
        "outputId": "135a9fef-b509-4f3e-f298-d32ed3a171c9"
      },
      "cell_type": "code",
      "source": [
        "# scale the features to be in range [-1, 1], by dividing each column by its absolute max\n",
        "def scaleFeatures(data):\n",
        "  cData = data.copy()\n",
        "  maxValues = []\n",
        "  featuresMatrix = data.iloc[:,0:len(data.columns)-1]\n",
        "  for columnIndex in range(0, len(featuresMatrix.columns)):\n",
        "    maxValue = featuresMatrix.iloc[:,columnIndex].abs().nlargest(1)\n",
        "    print (float(maxValue))\n",
        "    featuresMatrix.iloc[:,columnIndex] = featuresMatrix.iloc[:,columnIndex] / float(maxValue)\n",
        "    maxValues.append(float(maxValue))\n",
        "  \n",
        "  return (maxValues, featuresMatrix)\n",
        "    \n",
        "print (scaleFeatures(data))\n",
        "print(data)"
      ],
      "execution_count": 86,
      "outputs": [
        {
          "output_type": "stream",
          "text": [
            "99.82785779692128\n",
            "98.86943574220612\n",
            "([99.82785779692128, 98.86943574220612],     first_exam_result  second_exam_result\n",
            "0            0.346834            0.789169\n",
            "1            0.303389            0.443969\n",
            "2            0.359092            0.737358\n",
            "3            0.602864            0.872955\n",
            "4            0.791690            0.762059\n",
            "5            0.451610            0.569603\n",
            "6            0.612120            0.976150\n",
            "7            0.751541            0.470864\n",
            "8            0.762300            0.884202\n",
            "9            0.845784            0.440312\n",
            "10           0.960269            0.386624\n",
            "11           0.751430            0.309532\n",
            "12           0.824490            0.773565\n",
            "13           0.694842            0.988361\n",
            "14           0.396065            0.769063\n",
            "15           0.540641            0.902274\n",
            "16           0.691892            0.533436\n",
            "17           0.680640            0.472123\n",
            "18           0.707834            0.939898\n",
            "19           0.771115            0.481200\n",
            "20           0.674882            0.433283\n",
            "21           0.898314            0.665518\n",
            "22           0.506219            0.494145\n",
            "23           0.342711            0.447151\n",
            "24           0.780585            0.697611\n",
            "25           0.623784            0.707544\n",
            "26           0.803285            0.453342\n",
            "27           0.932750            0.392444\n",
            "28           0.619368            0.508308\n",
            "29           0.388527            0.657389\n",
            "..                ...                 ...\n",
            "70           0.327793            0.438024\n",
            "71           0.641497            0.789240\n",
            "72           0.724712            0.973279\n",
            "73           0.605621            0.739308\n",
            "74           0.589424            0.767259\n",
            "75           1.000000            0.731968\n",
            "76           0.473458            0.894876\n",
            "77           0.505452            0.766767\n",
            "78           0.605598            0.429945\n",
            "79           0.823685            0.432084\n",
            "80           0.890672            0.706020\n",
            "81           0.949980            0.462168\n",
            "82           0.674353            0.673508\n",
            "83           0.573374            0.601948\n",
            "84           0.805053            0.920003\n",
            "85           0.685866            0.865731\n",
            "86           0.421480            0.797464\n",
            "87           0.756079            0.914585\n",
            "88           0.787710            0.977526\n",
            "89           0.524383            0.614644\n",
            "90           0.942566            0.780414\n",
            "91           0.906045            0.885094\n",
            "92           0.555778            0.359775\n",
            "93           0.746211            0.858153\n",
            "94           0.900007            0.458770\n",
            "95           0.836331            0.489335\n",
            "96           0.423346            0.880999\n",
            "97           0.994863            0.695619\n",
            "98           0.554354            0.656744\n",
            "99           0.749048            0.905536\n",
            "\n",
            "[100 rows x 2 columns])\n",
            "    first_exam_result  second_exam_result  admited\n",
            "0           34.623660           78.024693        0\n",
            "1           30.286711           43.894998        0\n",
            "2           35.847409           72.902198        0\n",
            "3           60.182599           86.308552        1\n",
            "4           79.032736           75.344376        1\n",
            "5           45.083277           56.316372        0\n",
            "6           61.106665           96.511426        1\n",
            "7           75.024746           46.554014        1\n",
            "8           76.098787           87.420570        1\n",
            "9           84.432820           43.533393        1\n",
            "10          95.861555           38.225278        0\n",
            "11          75.013658           30.603263        0\n",
            "12          82.307053           76.481963        1\n",
            "13          69.364589           97.718692        1\n",
            "14          39.538339           76.036811        0\n",
            "15          53.971052           89.207350        1\n",
            "16          69.070144           52.740470        1\n",
            "17          67.946855           46.678574        0\n",
            "18          70.661510           92.927138        1\n",
            "19          76.978784           47.575964        1\n",
            "20          67.372028           42.838438        0\n",
            "21          89.676776           65.799366        1\n",
            "22          50.534788           48.855812        0\n",
            "23          34.212061           44.209529        0\n",
            "24          77.924091           68.972360        1\n",
            "25          62.271014           69.954458        1\n",
            "26          80.190181           44.821629        1\n",
            "27          93.114389           38.800670        0\n",
            "28          61.830206           50.256108        0\n",
            "29          38.785804           64.995681        0\n",
            "..                ...                 ...      ...\n",
            "70          32.722833           43.307173        0\n",
            "71          64.039320           78.031688        1\n",
            "72          72.346494           96.227593        1\n",
            "73          60.457886           73.094998        1\n",
            "74          58.840956           75.858448        1\n",
            "75          99.827858           72.369252        1\n",
            "76          47.264269           88.475865        1\n",
            "77          50.458160           75.809860        1\n",
            "78          60.455556           42.508409        0\n",
            "79          82.226662           42.719879        0\n",
            "80          88.913896           69.803789        1\n",
            "81          94.834507           45.694307        1\n",
            "82          67.319257           66.589353        1\n",
            "83          57.238706           59.514282        1\n",
            "84          80.366756           90.960148        1\n",
            "85          68.468522           85.594307        1\n",
            "86          42.075455           78.844786        0\n",
            "87          75.477702           90.424539        1\n",
            "88          78.635424           96.647427        1\n",
            "89          52.348004           60.769505        0\n",
            "90          94.094331           77.159105        1\n",
            "91          90.448551           87.508792        1\n",
            "92          55.482161           35.570703        0\n",
            "93          74.492692           84.845137        1\n",
            "94          89.845807           45.358284        1\n",
            "95          83.489163           48.380286        1\n",
            "96          42.261701           87.103851        1\n",
            "97          99.315009           68.775409        1\n",
            "98          55.340018           64.931938        1\n",
            "99          74.775893           89.529813        1\n",
            "\n",
            "[100 rows x 3 columns]\n"
          ],
          "name": "stdout"
        }
      ]
    },
    {
      "metadata": {
        "id": "OTvrCJHOfhPJ",
        "colab_type": "text"
      },
      "cell_type": "markdown",
      "source": [
        ""
      ]
    }
  ]
}