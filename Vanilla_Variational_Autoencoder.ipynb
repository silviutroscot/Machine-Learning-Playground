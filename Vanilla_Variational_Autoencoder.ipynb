{
  "nbformat": 4,
  "nbformat_minor": 0,
  "metadata": {
    "colab": {
      "name": "Vanilla Variational Autoencoder.ipynb",
      "provenance": [],
      "include_colab_link": true
    },
    "kernelspec": {
      "name": "python3",
      "display_name": "Python 3"
    },
    "accelerator": "GPU"
  },
  "cells": [
    {
      "cell_type": "markdown",
      "metadata": {
        "id": "view-in-github",
        "colab_type": "text"
      },
      "source": [
        "<a href=\"https://colab.research.google.com/github/silviutroscot/Machine-Learning-Playground/blob/master/Vanilla_Variational_Autoencoder.ipynb\" target=\"_parent\"><img src=\"https://colab.research.google.com/assets/colab-badge.svg\" alt=\"Open In Colab\"/></a>"
      ]
    },
    {
      "cell_type": "code",
      "metadata": {
        "id": "Qr9SsCWsI447",
        "colab_type": "code",
        "outputId": "0eae85bc-e35f-439e-d02b-002d6c2aa88d",
        "colab": {
          "base_uri": "https://localhost:8080/",
          "height": 34
        }
      },
      "source": [
        "import torch\n",
        "import torch.nn as nn\n",
        "import torch.nn.functional as F\n",
        "\n",
        "from torch.autograd import Variable\n",
        "\n",
        "import pandas as pd\n",
        "import numpy as np\n",
        "\n",
        "from sklearn.model_selection import train_test_split\n",
        "from torch.utils.data import TensorDataset\n",
        "import matplotlib.pyplot as plt\n",
        "\n",
        "from google.colab import drive \n",
        "drive.mount('/content/gdrive')"
      ],
      "execution_count": 0,
      "outputs": [
        {
          "output_type": "stream",
          "text": [
            "Drive already mounted at /content/gdrive; to attempt to forcibly remount, call drive.mount(\"/content/gdrive\", force_remount=True).\n"
          ],
          "name": "stdout"
        }
      ]
    },
    {
      "cell_type": "code",
      "metadata": {
        "id": "2xWrlWxfoXfU",
        "colab_type": "code",
        "colab": {}
      },
      "source": [
        "def show_torch_image(torch_tensor):\n",
        "    plt.imshow(torch_tensor.numpy().reshape(28, 28), cmap='gray')\n",
        "    plt.show()"
      ],
      "execution_count": 0,
      "outputs": []
    },
    {
      "cell_type": "code",
      "metadata": {
        "id": "auSGmmaVoejL",
        "colab_type": "code",
        "outputId": "ae4d87a8-acb1-44fc-baa2-c43a73c04764",
        "colab": {
          "base_uri": "https://localhost:8080/",
          "height": 68
        }
      },
      "source": [
        "#Load dataset\n",
        "train = pd.read_csv(\"gdrive/My Drive/Datasets/fashion-mnist_train.csv\")\n",
        "\n",
        "#normalization and preprocessing\n",
        "X = train.iloc[:,1:].values / 255\n",
        "X = (X-0.5)/0.5\n",
        "\n",
        "Y = train.iloc[:,0].values\n",
        "\n",
        "print(X.shape,Y.shape)\n",
        "# check that the normalization was correct and the values are in range [-1,1]\n",
        "print (np.max(X))\n",
        "print (np.min(X))"
      ],
      "execution_count": 0,
      "outputs": [
        {
          "output_type": "stream",
          "text": [
            "(60000, 784) (60000,)\n",
            "1.0\n",
            "-1.0\n"
          ],
          "name": "stdout"
        }
      ]
    },
    {
      "cell_type": "code",
      "metadata": {
        "id": "pbhXlPZRoh49",
        "colab_type": "code",
        "colab": {}
      },
      "source": [
        "# split data into training and test data\n",
        "trn_x, test_x, trn_y, test_y = train_test_split(X,Y,test_size=0.20)"
      ],
      "execution_count": 0,
      "outputs": []
    },
    {
      "cell_type": "code",
      "metadata": {
        "id": "JRgPHQMlojM1",
        "colab_type": "code",
        "colab": {}
      },
      "source": [
        "# convert the numpy training and test arrays to torch tensors\n",
        "trn_x_torch = torch.from_numpy(trn_x).type(torch.FloatTensor)\n",
        "trn_y_torch = torch.from_numpy(trn_y)\n",
        "\n",
        "test_x_torch = torch.from_numpy(test_x).type(torch.FloatTensor)\n",
        "test_y_torch = torch.from_numpy(test_y)\n",
        "\n",
        "trn = TensorDataset(trn_x_torch, trn_y_torch)\n",
        "test = TensorDataset(test_x_torch, test_y_torch)\n",
        "\n",
        "trn_dataloader = torch.utils.data.DataLoader(trn, batch_size=100,shuffle=False, num_workers=4)\n",
        "test_dataloader = torch.utils.data.DataLoader(test, batch_size=100,shuffle=False, num_workers=4)"
      ],
      "execution_count": 0,
      "outputs": []
    },
    {
      "cell_type": "code",
      "metadata": {
        "id": "OV22D-qdo6fJ",
        "colab_type": "code",
        "outputId": "d4244cab-747a-4ae1-ec98-40c29ae6e739",
        "colab": {
          "base_uri": "https://localhost:8080/",
          "height": 265
        }
      },
      "source": [
        "show_torch_image(trn_x_torch[1])"
      ],
      "execution_count": 0,
      "outputs": [
        {
          "output_type": "display_data",
          "data": {
            "image/png": "[encoded data removed]",
            "text/plain": [
              "<Figure size 432x288 with 1 Axes>"
            ]
          },
          "metadata": {
            "tags": []
          }
        }
      ]
    },
    {
      "cell_type": "code",
      "metadata": {
        "id": "qDvIZ7mppDRt",
        "colab_type": "code",
        "colab": {}
      },
      "source": [
        "class AutoEncoder(nn.Module):\n",
        "    \n",
        "    def __init__(self):\n",
        "        super(AutoEncoder, self).__init__()\n",
        "        \n",
        "        #encoder\n",
        "        self.e1 = nn.Linear(784,28)\n",
        "        self.e2 = nn.Linear(28,250)\n",
        "        \n",
        "        #Latent View\n",
        "        self.lv = nn.Linear(250,10)\n",
        "        \n",
        "        #Decoder\n",
        "        self.d1 = nn.Linear(10,250)\n",
        "        self.d2 = nn.Linear(250,500)\n",
        "        \n",
        "        self.output_layer = nn.Linear(500,784)\n",
        "        \n",
        "    def forward(self,x):\n",
        "        x = F.relu(self.e1(x))\n",
        "        x = F.relu(self.e2(x))\n",
        "        \n",
        "        x = torch.sigmoid(self.lv(x))\n",
        "        \n",
        "        x = F.relu(self.d1(x))\n",
        "        x = F.relu(self.d2(x))\n",
        "        \n",
        "        x = self.output_layer(x)\n",
        "        return x"
      ],
      "execution_count": 0,
      "outputs": []
    },
    {
      "cell_type": "code",
      "metadata": {
        "id": "G7TEmoc0omhR",
        "colab_type": "code",
        "outputId": "f71c8c74-1b6f-4296-c9f4-88dd51f6edb9",
        "colab": {
          "base_uri": "https://localhost:8080/",
          "height": 153
        }
      },
      "source": [
        "ae = AutoEncoder()\n",
        "print(ae)"
      ],
      "execution_count": 0,
      "outputs": [
        {
          "output_type": "stream",
          "text": [
            "AutoEncoder(\n",
            "  (e1): Linear(in_features=784, out_features=28, bias=True)\n",
            "  (e2): Linear(in_features=28, out_features=250, bias=True)\n",
            "  (lv): Linear(in_features=250, out_features=10, bias=True)\n",
            "  (d1): Linear(in_features=10, out_features=250, bias=True)\n",
            "  (d2): Linear(in_features=250, out_features=500, bias=True)\n",
            "  (output_layer): Linear(in_features=500, out_features=784, bias=True)\n",
            ")\n"
          ],
          "name": "stdout"
        }
      ]
    },
    {
      "cell_type": "code",
      "metadata": {
        "id": "0endSYQYr95L",
        "colab_type": "code",
        "colab": {}
      },
      "source": [
        "#define our optimizer and loss function\n",
        "loss_func = nn.MSELoss()\n",
        "optimizer = torch.optim.Adam(ae.parameters(), lr=1e-3)"
      ],
      "execution_count": 0,
      "outputs": []
    },
    {
      "cell_type": "code",
      "metadata": {
        "id": "HbETbcT9sEKa",
        "colab_type": "code",
        "outputId": "65af8e74-ae98-438a-97f6-19616d6c67fa",
        "colab": {
          "base_uri": "https://localhost:8080/",
          "height": 34
        }
      },
      "source": [
        "losses = []\n",
        "EPOCHS = 5\n",
        "for epoch in range(EPOCHS):\n",
        "    \n",
        "    for batch_idx, (data,target) in enumerate(trn_dataloader):\n",
        "        \n",
        "        data = torch.autograd.Variable(data)\n",
        "    \n",
        "        \n",
        "        optimizer.zero_grad()\n",
        "        \n",
        "        pred = ae(data)\n",
        "        \n",
        "        loss = loss_func(pred, data)\n",
        "        \n",
        "        losses.append(loss.cpu().data.item())\n",
        "        \n",
        "        # Backpropagation\n",
        "        loss.backward()\n",
        "        \n",
        "        optimizer.step()\n",
        "        \n",
        "        \n",
        "        # Display\n",
        "        if batch_idx % 100 == 1:\n",
        "            print('\\r Train Epoch: {}/{} [{}/{} ({:.0f}%)]\\tLoss: {:.6f}'.format(\n",
        "                epoch+1,\n",
        "                EPOCHS,\n",
        "                batch_idx * len(data), \n",
        "                len(trn_dataloader.dataset),\n",
        "                100. * batch_idx / len(trn_dataloader), \n",
        "                loss.cpu().data.item()), \n",
        "                end='')"
      ],
      "execution_count": 0,
      "outputs": [
        {
          "output_type": "stream",
          "text": [
            " Train Epoch: 5/5 [40100/48000 (84%)]\tLoss: 0.061583"
          ],
          "name": "stdout"
        }
      ]
    },
    {
      "cell_type": "code",
      "metadata": {
        "id": "MaV4wnROsOpF",
        "colab_type": "code",
        "outputId": "c2118ca3-a8e4-444c-e855-997c0b4ea1e7",
        "colab": {
          "base_uri": "https://localhost:8080/",
          "height": 34
        }
      },
      "source": [
        "# set the model to evaluation mode\n",
        "ae.eval()\n",
        "predictions = []\n",
        "\n",
        "for batch_idx, (data,target) in enumerate(test_dataloader):\n",
        "        \n",
        "        data = torch.autograd.Variable(data)\n",
        "\n",
        "        pred = ae(data)\n",
        "        \n",
        "        for prediction in pred:\n",
        "            predictions.append(prediction)\n",
        "            \n",
        "        \n",
        "        \n",
        "len(predictions)   "
      ],
      "execution_count": 0,
      "outputs": [
        {
          "output_type": "execute_result",
          "data": {
            "text/plain": [
              "12000"
            ]
          },
          "metadata": {
            "tags": []
          },
          "execution_count": 14
        }
      ]
    },
    {
      "cell_type": "code",
      "metadata": {
        "id": "4pd4WKNfsXMG",
        "colab_type": "code",
        "outputId": "a8cd48c8-fb9b-43b2-cbda-c07a48590ca9",
        "colab": {
          "base_uri": "https://localhost:8080/",
          "height": 282
        }
      },
      "source": [
        "show_torch_image(test_x_torch[0])\n",
        "print(len(test_x_torch[0]))"
      ],
      "execution_count": 0,
      "outputs": [
        {
          "output_type": "display_data",
          "data": {
            "image/png": "[encoded data removed]",
            "text/plain": [
              "<Figure size 432x288 with 1 Axes>"
            ]
          },
          "metadata": {
            "tags": []
          }
        },
        {
          "output_type": "stream",
          "text": [
            "784\n"
          ],
          "name": "stdout"
        }
      ]
    },
    {
      "cell_type": "code",
      "metadata": {
        "id": "QI-rJtoMsTak",
        "colab_type": "code",
        "outputId": "c67fb54b-9f68-49eb-c3b7-ff32c61a39d7",
        "colab": {
          "base_uri": "https://localhost:8080/",
          "height": 282
        }
      },
      "source": [
        "show_torch_image(predictions[0].detach())\n",
        "print(len(predictions[0]))"
      ],
      "execution_count": 0,
      "outputs": [
        {
          "output_type": "display_data",
          "data": {
            "image/png": "[encoded data removed]",
            "text/plain": [
              "<Figure size 432x288 with 1 Axes>"
            ]
          },
          "metadata": {
            "tags": []
          }
        },
        {
          "output_type": "stream",
          "text": [
            "784\n"
          ],
          "name": "stdout"
        }
      ]
    },
    {
      "cell_type": "code",
      "metadata": {
        "id": "7hcPOrm0LI9b",
        "colab_type": "code",
        "colab": {}
      },
      "source": [
        "# algorithms for evaluating the accuracy of the reconstruction of our AE\n",
        "# compute the sum of the differences between the initial representation and the learnt representation\n",
        "\n",
        "def meanSquaredError(test_x_torch, predictions):\n",
        "    diffList = [] \n",
        "    for i in range(0, len(predictions)):\n",
        "        diff = test_x_torch[i] - predictions[i]\n",
        "        squared_diff = torch.mul(diff, diff)\n",
        "        squared_diff_mean = squared_diff.mean()\n",
        "        diffList.append(squared_diff_mean)\n",
        "    \n",
        "    diffList = torch.tensor(diffList)\n",
        "    return diffList.mean()"
      ],
      "execution_count": 0,
      "outputs": []
    },
    {
      "cell_type": "code",
      "metadata": {
        "id": "sR5WB9Mba_M1",
        "colab_type": "code",
        "outputId": "215acb75-8638-49d5-c244-12e3cdc3ce37",
        "colab": {
          "base_uri": "https://localhost:8080/",
          "height": 34
        }
      },
      "source": [
        "MSerror =  meanSquaredError(test_x_torch, predictions)\n",
        "print (MSerror)"
      ],
      "execution_count": 0,
      "outputs": [
        {
          "output_type": "stream",
          "text": [
            "tensor(0.0620)\n"
          ],
          "name": "stdout"
        }
      ]
    }
  ]
}