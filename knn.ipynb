{
  "nbformat": 4,
  "nbformat_minor": 0,
  "metadata": {
    "colab": {
      "name": "knn",
      "version": "0.3.2",
      "provenance": [],
      "collapsed_sections": [],
      "include_colab_link": true
    },
    "kernelspec": {
      "name": "python3",
      "display_name": "Python 3"
    },
    "accelerator": "GPU"
  },
  "cells": [
    {
      "cell_type": "markdown",
      "metadata": {
        "id": "view-in-github",
        "colab_type": "text"
      },
      "source": [
        "[View in Colaboratory](https://colab.research.google.com/github/silviutroscot/Machine-Learning-Playground/blob/master/knn.ipynb)"
      ]
    },
    {
      "metadata": {
        "id": "zNy_v0PiWNCX",
        "colab_type": "code",
        "colab": {
          "base_uri": "https://localhost:8080/",
          "height": 170
        },
        "outputId": "1c39f9fa-357d-44e0-c708-b88207522e62"
      },
      "cell_type": "code",
      "source": [
        "import pandas as pd\n",
        "\n",
        "# import data from CSV\n",
        "data = pd.read_csv('https://archive.ics.uci.edu/ml/machine-learning-databases/iris/iris.data')\n",
        "data.columns = (['sepal_length', 'sepal_width', 'petal_length', 'petal_width', 'classs'])\n",
        "\n",
        "print (data.describe())"
      ],
      "execution_count": 12,
      "outputs": [
        {
          "output_type": "stream",
          "text": [
            "       sepal_length  sepal_width  petal_length  petal_width\n",
            "count    149.000000   149.000000    149.000000   149.000000\n",
            "mean       5.848322     3.051007      3.774497     1.205369\n",
            "std        0.828594     0.433499      1.759651     0.761292\n",
            "min        4.300000     2.000000      1.000000     0.100000\n",
            "25%        5.100000     2.800000      1.600000     0.300000\n",
            "50%        5.800000     3.000000      4.400000     1.300000\n",
            "75%        6.400000     3.300000      5.100000     1.800000\n",
            "max        7.900000     4.400000      6.900000     2.500000\n"
          ],
          "name": "stdout"
        }
      ]
    }
  ]
}